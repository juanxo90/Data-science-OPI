{
  "nbformat": 4,
  "nbformat_minor": 0,
  "metadata": {
    "colab": {
      "name": "OPI-ciencia-de-datos.ipynb",
      "provenance": [],
      "authorship_tag": "ABX9TyMQSloH4y3rNRQ2SEBZcHim",
      "include_colab_link": true
    },
    "kernelspec": {
      "name": "python3",
      "display_name": "Python 3"
    },
    "language_info": {
      "name": "python"
    }
  },
  "cells": [
    {
      "cell_type": "markdown",
      "metadata": {
        "id": "view-in-github",
        "colab_type": "text"
      },
      "source": [
        "<a href=\"https://colab.research.google.com/github/juanxo90/Data-science-OPI/blob/main/OPI_ciencia_de_datos.ipynb\" target=\"_parent\"><img src=\"https://colab.research.google.com/assets/colab-badge.svg\" alt=\"Open In Colab\"/></a>"
      ]
    },
    {
      "cell_type": "markdown",
      "metadata": {
        "id": "91pLOxzNRruJ"
      },
      "source": [
        "# Análisis de datos abiertos de la CDMX.\n",
        "\n",
        "A partir de los datos publicados por la agencia Digital de Inovación Pública (datos asociados a las carpetas de investigación de la PGJ). se realizará la exploración, análisis e interpretación de la tabla, de acuerdo a las diferentes preguntas planteadas a continuación.\n",
        "\n"
      ]
    },
    {
      "cell_type": "markdown",
      "metadata": {
        "id": "p-YsbJ4vTYnK"
      },
      "source": [
        "## 1. ¿Qué pruebas identificarías para asegurar la calidad de estos datos? No es necesario hacerlas, sólo describe la prueba y lo que te dice cada una.\n",
        "\n",
        "Primero que nada, hay que identificar el tipo de datos que se van a analizar, si estos son datos categóricos o continuos. Principalmente esto se relaciona con el proposito por el cual los datos hay sido colectados. A partir de esto, se pueden considerar los siguientes puntos:\n",
        "\n",
        "* Análisis preliminar de los datos: en este paso revisaremos los datos, calcularemos los estadísticos básicos y graficaremos los datos, es decir, antes de cualquier prueba se debe hacer el análisis exploratorio.\n",
        "\n",
        "* Análisis de los \"statistical assumptions\": relacionada al tipo de datos usados, entre los cuales se encuentran normalidad, independencia e igualdad de varianzas. Si estamos hablando de datos espaciales debemos considerar también  los momentos de la función aleatoria como pueden ser su estacionaridad. \n",
        "\n",
        "* Pruebas estadísticas usando:\n",
        "  * Pruebas de Shapiro-Wilk, Kolmogorov-Smirnov, y Lilliefors para evaluar normalidad.\n",
        "  * Prueba de Levene para evaluar igualdad de varianzas.\n",
        "  * Semivariograma para evaluar correlación espacial de los datos, es decir, la parte relacionada con la función aleatoria espacial (tendencias espaciales, etc."
      ]
    },
    {
      "cell_type": "markdown",
      "metadata": {
        "id": "nd-vR79uYvLA"
      },
      "source": [
        "## 2. Identifica los delitos que van a la alza y a la baja en la CDMX (ten cuidado con los delitos con pocas ocurrencias).\n",
        "\n",
        "Vamos a analizar la base de datos a partir y calcular la alza y baja en delitos."
      ]
    },
    {
      "cell_type": "code",
      "metadata": {
        "id": "aAb3P5RTRoOm"
      },
      "source": [
        "# importamos la librerias \n",
        "import numpy as np\n",
        "import pandas as pd"
      ],
      "execution_count": 6,
      "outputs": []
    },
    {
      "cell_type": "code",
      "metadata": {
        "id": "RDzi1PFzaUJn"
      },
      "source": [
        "# cargamos la base de datos (SER PACIENTES LA BASE DE DATOS ES UN POCO GRANDE )\n",
        "url = 'https://archivo.datos.cdmx.gob.mx/fiscalia-general-de-justicia/carpetas-de-investigacion-fgj-de-la-ciudad-de-mexico/carpetas_completa_septiembre_2021.csv'\n",
        "data = pd.read_csv(url, low_memory=False)"
      ],
      "execution_count": 8,
      "outputs": []
    },
    {
      "cell_type": "code",
      "metadata": {
        "colab": {
          "base_uri": "https://localhost:8080/",
          "height": 479
        },
        "id": "PrtJtrD1aXoO",
        "outputId": "9e33a7c8-aac6-4161-fa49-8bd3e051a0ec"
      },
      "source": [
        "data.head()"
      ],
      "execution_count": 9,
      "outputs": [
        {
          "output_type": "execute_result",
          "data": {
            "text/html": [
              "<div>\n",
              "<style scoped>\n",
              "    .dataframe tbody tr th:only-of-type {\n",
              "        vertical-align: middle;\n",
              "    }\n",
              "\n",
              "    .dataframe tbody tr th {\n",
              "        vertical-align: top;\n",
              "    }\n",
              "\n",
              "    .dataframe thead th {\n",
              "        text-align: right;\n",
              "    }\n",
              "</style>\n",
              "<table border=\"1\" class=\"dataframe\">\n",
              "  <thead>\n",
              "    <tr style=\"text-align: right;\">\n",
              "      <th></th>\n",
              "      <th>ao_hechos</th>\n",
              "      <th>mes_hechos</th>\n",
              "      <th>fecha_hechos</th>\n",
              "      <th>ao_inicio</th>\n",
              "      <th>mes_inicio</th>\n",
              "      <th>fecha_inicio</th>\n",
              "      <th>delito</th>\n",
              "      <th>fiscalia</th>\n",
              "      <th>agencia</th>\n",
              "      <th>unidad_investigacion</th>\n",
              "      <th>categoria_delito</th>\n",
              "      <th>calle_hechos</th>\n",
              "      <th>calle_hechos2</th>\n",
              "      <th>colonia_hechos</th>\n",
              "      <th>alcaldia_hechos</th>\n",
              "      <th>competencia</th>\n",
              "      <th>longitud</th>\n",
              "      <th>latitud</th>\n",
              "      <th>tempo</th>\n",
              "    </tr>\n",
              "  </thead>\n",
              "  <tbody>\n",
              "    <tr>\n",
              "      <th>0</th>\n",
              "      <td>2016.0</td>\n",
              "      <td>Enero</td>\n",
              "      <td>2016-01-31 22:16:00</td>\n",
              "      <td>2016</td>\n",
              "      <td>Febrero</td>\n",
              "      <td>2016-02-01 00:25:44</td>\n",
              "      <td>DAÑO EN PROPIEDAD AJENA INTENCIONAL</td>\n",
              "      <td>INVESTIGACIÓN EN BENITO JUÁREZ</td>\n",
              "      <td>BJ-2</td>\n",
              "      <td>UI-3CD</td>\n",
              "      <td>DELITO DE BAJO IMPACTO</td>\n",
              "      <td>CALZ. DE TLALPAN</td>\n",
              "      <td>LAGO PTE.</td>\n",
              "      <td>AMÉRICAS UNIDAS</td>\n",
              "      <td>BENITO JUAREZ</td>\n",
              "      <td>NaN</td>\n",
              "      <td>-99.140215</td>\n",
              "      <td>19.380315</td>\n",
              "      <td>NaN</td>\n",
              "    </tr>\n",
              "    <tr>\n",
              "      <th>1</th>\n",
              "      <td>2016.0</td>\n",
              "      <td>Enero</td>\n",
              "      <td>2016-01-31 20:50:00</td>\n",
              "      <td>2016</td>\n",
              "      <td>Febrero</td>\n",
              "      <td>2016-02-01 00:52:37</td>\n",
              "      <td>ROBO DE VEHICULO DE SERVICIO PARTICULAR CON VI...</td>\n",
              "      <td>INVESTIGACIÓN PARA LA ATENCIÓN DEL DELITO DE R...</td>\n",
              "      <td>ORIENTEII</td>\n",
              "      <td>UI-3CD</td>\n",
              "      <td>ROBO DE VEHÍCULO CON Y SIN VIOLENCIA</td>\n",
              "      <td>SUR 25 A</td>\n",
              "      <td>GRANJEROS</td>\n",
              "      <td>LOS CIPRESES</td>\n",
              "      <td>IZTAPALAPA</td>\n",
              "      <td>NaN</td>\n",
              "      <td>-99.108403</td>\n",
              "      <td>19.352859</td>\n",
              "      <td>NaN</td>\n",
              "    </tr>\n",
              "    <tr>\n",
              "      <th>2</th>\n",
              "      <td>2016.0</td>\n",
              "      <td>Febrero</td>\n",
              "      <td>2016-02-01 00:30:00</td>\n",
              "      <td>2016</td>\n",
              "      <td>Febrero</td>\n",
              "      <td>2016-02-01 01:33:26</td>\n",
              "      <td>NARCOMENUDEO POSESION SIMPLE</td>\n",
              "      <td>INVESTIGACIÓN PARA LA ATENCIÓN DE NIÑOS, NIÑAS...</td>\n",
              "      <td>57</td>\n",
              "      <td>UI-3CD</td>\n",
              "      <td>DELITO DE BAJO IMPACTO</td>\n",
              "      <td>BATALLONES ROJOS</td>\n",
              "      <td>NaN</td>\n",
              "      <td>UNIDAD VICENTE GUERRERO</td>\n",
              "      <td>IZTAPALAPA</td>\n",
              "      <td>NaN</td>\n",
              "      <td>-99.061321</td>\n",
              "      <td>19.356451</td>\n",
              "      <td>NaN</td>\n",
              "    </tr>\n",
              "    <tr>\n",
              "      <th>3</th>\n",
              "      <td>2016.0</td>\n",
              "      <td>Enero</td>\n",
              "      <td>2016-01-31 22:00:00</td>\n",
              "      <td>2016</td>\n",
              "      <td>Febrero</td>\n",
              "      <td>2016-02-01 02:09:11</td>\n",
              "      <td>ROBO A TRANSEUNTE EN VIA PUBLICA CON VIOLENCIA</td>\n",
              "      <td>INVESTIGACIÓN EN IZTAPALAPA</td>\n",
              "      <td>IZP-6</td>\n",
              "      <td>UI-3CD</td>\n",
              "      <td>ROBO A TRANSEUNTE EN VÍA PÚBLICA CON Y SIN VIO...</td>\n",
              "      <td>GERANIO</td>\n",
              "      <td>GAVILLEROS</td>\n",
              "      <td>EMILIANO ZAPATA</td>\n",
              "      <td>IZTAPALAPA</td>\n",
              "      <td>NaN</td>\n",
              "      <td>-98.976379</td>\n",
              "      <td>19.331633</td>\n",
              "      <td>NaN</td>\n",
              "    </tr>\n",
              "    <tr>\n",
              "      <th>4</th>\n",
              "      <td>2015.0</td>\n",
              "      <td>Diciembre</td>\n",
              "      <td>2015-12-25 12:00:00</td>\n",
              "      <td>2016</td>\n",
              "      <td>Febrero</td>\n",
              "      <td>2016-02-01 02:16:49</td>\n",
              "      <td>DENUNCIA DE HECHOS</td>\n",
              "      <td>INVESTIGACIÓN EN BENITO JUÁREZ</td>\n",
              "      <td>BJ-1</td>\n",
              "      <td>UI-3SD</td>\n",
              "      <td>HECHO NO DELICTIVO</td>\n",
              "      <td>SAN FRANCISCO</td>\n",
              "      <td>AVENIDA COLONIA DEL VALLE</td>\n",
              "      <td>DEL VALLE CENTRO</td>\n",
              "      <td>BENITO JUAREZ</td>\n",
              "      <td>NaN</td>\n",
              "      <td>-99.172189</td>\n",
              "      <td>19.387114</td>\n",
              "      <td>NaN</td>\n",
              "    </tr>\n",
              "  </tbody>\n",
              "</table>\n",
              "</div>"
            ],
            "text/plain": [
              "   ao_hechos mes_hechos         fecha_hechos  ...   longitud    latitud tempo\n",
              "0     2016.0      Enero  2016-01-31 22:16:00  ... -99.140215  19.380315   NaN\n",
              "1     2016.0      Enero  2016-01-31 20:50:00  ... -99.108403  19.352859   NaN\n",
              "2     2016.0    Febrero  2016-02-01 00:30:00  ... -99.061321  19.356451   NaN\n",
              "3     2016.0      Enero  2016-01-31 22:00:00  ... -98.976379  19.331633   NaN\n",
              "4     2015.0  Diciembre  2015-12-25 12:00:00  ... -99.172189  19.387114   NaN\n",
              "\n",
              "[5 rows x 19 columns]"
            ]
          },
          "metadata": {},
          "execution_count": 9
        }
      ]
    },
    {
      "cell_type": "code",
      "metadata": {
        "id": "seWtgujpay_G"
      },
      "source": [
        "# vamos a clasificar los delitos por año, mes y tipo, de esta forma podremos tener una serie de tiempo y ver que delitos van a la alza o a la baja"
      ],
      "execution_count": null,
      "outputs": []
    }
  ]
}